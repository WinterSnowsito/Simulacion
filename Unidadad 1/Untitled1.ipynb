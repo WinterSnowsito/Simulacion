{
  "nbformat": 4,
  "nbformat_minor": 0,
  "metadata": {
    "colab": {
      "provenance": []
    },
    "kernelspec": {
      "name": "python3",
      "display_name": "Python 3"
    },
    "language_info": {
      "name": "python"
    }
  },
  "cells": [
    {
      "cell_type": "code",
      "execution_count": 6,
      "metadata": {
        "colab": {
          "base_uri": "https://localhost:8080/"
        },
        "id": "hycrtJFjk5yl",
        "outputId": "93f9e9f6-87b1-4f55-cc53-4f225272afbe"
      },
      "outputs": [
        {
          "output_type": "stream",
          "name": "stdout",
          "text": [
            "Estadístico D de Kolmogorov-Smirnov: 0.08163043910402579\n",
            "Valor p: 0.4924119120655388\n",
            "No se puede rechazar la hipótesis nula: Los datos parecen seguir una distribución uniforme.\n"
          ]
        }
      ],
      "source": [
        "import numpy as np\n",
        "import scipy.stats as stats\n",
        "\n",
        "# Generar 100 números aleatorios entre 0 y 1\n",
        "n = 100\n",
        "random_numbers = np.random.uniform(0, 1, n)\n",
        "\n",
        "# Realizar la prueba de Kolmogorov-Smirnov\n",
        "D, p_value = stats.kstest(random_numbers, 'uniform')\n",
        "\n",
        "# Imprimir los resultados\n",
        "print(f\"Estadístico D de Kolmogorov-Smirnov: {D}\")\n",
        "print(f\"Valor p: {p_value}\")\n",
        "\n",
        "# Evaluar si los datos provienen de una distribución uniforme\n",
        "alpha = 0.05\n",
        "if p_value > alpha:\n",
        "    print(\"No se puede rechazar la hipótesis nula: Los datos parecen seguir una distribución uniforme.\")\n",
        "else:\n",
        "    print(\"Se rechaza la hipótesis nula: Los datos no siguen una distribución uniforme.\")\n"
      ]
    }
  ]
}